{
 "cells": [
  {
   "cell_type": "code",
   "execution_count": 48,
   "metadata": {
    "scrolled": false
   },
   "outputs": [
    {
     "name": "stdout",
     "output_type": "stream",
     "text": [
      "[0, 0, 0, 0, 0, 0, 0, 0, 0, 1]\n",
      "[0, 0, 0, 0, 0, 0, 0, 0, 1, 1]\n",
      "[0, 0, 0, 0, 0, 0, 0, 1, 1, 1]\n",
      "[0, 0, 0, 0, 0, 0, 1, 1, 1, 1]\n",
      "[0, 0, 0, 0, 0, 1, 1, 1, 1, 2]\n",
      "[0, 0, 0, 0, 1, 1, 1, 1, 2, 2]\n",
      "[0, 0, 0, 1, 1, 1, 1, 2, 2, 2]\n",
      "[0, 0, 1, 1, 1, 1, 2, 2, 2, 3]\n",
      "[0, 1, 1, 1, 1, 2, 2, 2, 3, 3]\n",
      "[1, 1, 1, 1, 2, 2, 2, 3, 3, 3]\n"
     ]
    }
   ],
   "source": [
    "arr = [0, 0, 0, 0, 0, 0, 0, 0, 0, 0]\n",
    "b = 0\n",
    "while True:\n",
    "    if b <= 3:\n",
    "        arr.append(1)\n",
    "        arr.pop(0)\n",
    "        \n",
    "    if b > 3 and b <= 6:\n",
    "        arr.append(2)\n",
    "        arr.pop(0)\n",
    "\n",
    "        \n",
    "    if b > 6:\n",
    "        arr.append(3)\n",
    "        arr.pop(0)\n",
    "    \n",
    "    b += 1\n",
    "    print(arr)\n",
    "    if b == 10:\n",
    "        break\n",
    "                   \n"
   ]
  }
 ],
 "metadata": {
  "kernelspec": {
   "display_name": "Python 3",
   "language": "python",
   "name": "python3"
  },
  "language_info": {
   "codemirror_mode": {
    "name": "ipython",
    "version": 3
   },
   "file_extension": ".py",
   "mimetype": "text/x-python",
   "name": "python",
   "nbconvert_exporter": "python",
   "pygments_lexer": "ipython3",
   "version": "3.6.6"
  }
 },
 "nbformat": 4,
 "nbformat_minor": 2
}
